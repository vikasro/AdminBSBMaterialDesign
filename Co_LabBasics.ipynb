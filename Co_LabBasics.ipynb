{
  "nbformat": 4,
  "nbformat_minor": 0,
  "metadata": {
    "colab": {
      "name": "Co-LabBasics.ipynb",
      "provenance": [],
      "private_outputs": true,
      "authorship_tag": "ABX9TyO6wKY1KZJyOxeW5b/xlyi6",
      "include_colab_link": true
    },
    "kernelspec": {
      "name": "python3",
      "display_name": "Python 3"
    },
    "accelerator": "GPU"
  },
  "cells": [
    {
      "cell_type": "markdown",
      "metadata": {
        "id": "view-in-github",
        "colab_type": "text"
      },
      "source": [
        "<a href=\"https://colab.research.google.com/github/vikasro/AdminBSBMaterialDesign/blob/master/Co_LabBasics.ipynb\" target=\"_parent\"><img src=\"https://colab.research.google.com/assets/colab-badge.svg\" alt=\"Open In Colab\"/></a>"
      ]
    },
    {
      "cell_type": "markdown",
      "metadata": {
        "id": "ab8BBmpewBih",
        "colab_type": "text"
      },
      "source": [
        "Some notebook basics in co-lab"
      ]
    },
    {
      "cell_type": "code",
      "metadata": {
        "id": "tM9CkM3JvCrw",
        "colab_type": "code",
        "colab": {}
      },
      "source": [
        "print(\"Machine Learning with Vikas At Gradlic\")"
      ],
      "execution_count": 0,
      "outputs": []
    },
    {
      "cell_type": "code",
      "metadata": {
        "id": "uXOsViihwMeE",
        "colab_type": "code",
        "colab": {}
      },
      "source": [
        "# Import tensorflow and tf.keras\n",
        "import tensorflow as tf\n",
        "from tensorflow import keras"
      ],
      "execution_count": 0,
      "outputs": []
    },
    {
      "cell_type": "markdown",
      "metadata": {
        "id": "TLf9T3TT0DyF",
        "colab_type": "text"
      },
      "source": [
        "Check Version Of TENSORFLOW"
      ]
    },
    {
      "cell_type": "code",
      "metadata": {
        "id": "O5zIZa7Jxdow",
        "colab_type": "code",
        "colab": {}
      },
      "source": [
        "tf.version.VERSION"
      ],
      "execution_count": 0,
      "outputs": []
    },
    {
      "cell_type": "code",
      "metadata": {
        "id": "iet9NMNlxhTv",
        "colab_type": "code",
        "colab": {}
      },
      "source": [
        "print(1+3)"
      ],
      "execution_count": 0,
      "outputs": []
    },
    {
      "cell_type": "code",
      "metadata": {
        "id": "jhx3DxkXx17o",
        "colab_type": "code",
        "colab": {}
      },
      "source": [
        "x = 9"
      ],
      "execution_count": 0,
      "outputs": []
    },
    {
      "cell_type": "code",
      "metadata": {
        "id": "u6XEn7_Fx8is",
        "colab_type": "code",
        "colab": {}
      },
      "source": [
        "type(x)"
      ],
      "execution_count": 0,
      "outputs": []
    },
    {
      "cell_type": "code",
      "metadata": {
        "id": "gjIQLyxYx-PY",
        "colab_type": "code",
        "colab": {}
      },
      "source": [
        "print(x)"
      ],
      "execution_count": 0,
      "outputs": []
    },
    {
      "cell_type": "code",
      "metadata": {
        "id": "HH_BlcXmyElK",
        "colab_type": "code",
        "colab": {}
      },
      "source": [
        "if(x > 0):\n",
        "  print(\"positive\")\n",
        "elif(x<0):\n",
        "  print(\"negative\")\n",
        "else:\n",
        "  print(\"zero\")"
      ],
      "execution_count": 0,
      "outputs": []
    },
    {
      "cell_type": "markdown",
      "metadata": {
        "id": "YrUTtNp8zR8D",
        "colab_type": "text"
      },
      "source": [
        "**CREATE A FUNCTION IN PYTHON**"
      ]
    },
    {
      "cell_type": "code",
      "metadata": {
        "id": "ZORfVSi1zZrM",
        "colab_type": "code",
        "colab": {}
      },
      "source": [
        "def print_num(x):\n",
        "  if(x > 0):\n",
        "    print(\"positive\")\n",
        "  elif(x<0):\n",
        "    print(\"negative\")\n",
        "  else:\n",
        "    print(\"zero\")"
      ],
      "execution_count": 0,
      "outputs": []
    },
    {
      "cell_type": "markdown",
      "metadata": {
        "id": "F2PF2zaFznNf",
        "colab_type": "text"
      },
      "source": [
        "Call Function with passing the param"
      ]
    },
    {
      "cell_type": "code",
      "metadata": {
        "id": "8Oa7q4wSzszf",
        "colab_type": "code",
        "colab": {}
      },
      "source": [
        "print_num(9)"
      ],
      "execution_count": 0,
      "outputs": []
    },
    {
      "cell_type": "code",
      "metadata": {
        "id": "QcKT3PX4zvmS",
        "colab_type": "code",
        "colab": {}
      },
      "source": [
        "print_num(0)"
      ],
      "execution_count": 0,
      "outputs": []
    },
    {
      "cell_type": "code",
      "metadata": {
        "id": "evcpZytvzy73",
        "colab_type": "code",
        "colab": {}
      },
      "source": [
        "print_num(-1)"
      ],
      "execution_count": 0,
      "outputs": []
    },
    {
      "cell_type": "markdown",
      "metadata": {
        "id": "Y2KdTMA50sti",
        "colab_type": "text"
      },
      "source": [
        "We can install different package using pip, by adding (!) to tell this line is a command line script insted of python code."
      ]
    },
    {
      "cell_type": "markdown",
      "metadata": {
        "id": "YyqhCWLQ1PqB",
        "colab_type": "text"
      },
      "source": [
        "Install current stable version of tensorflow as we can see we have 1.x installed by default we are going to install latest stable 2.x"
      ]
    },
    {
      "cell_type": "code",
      "metadata": {
        "id": "TZDhW3kLmzBs",
        "colab_type": "code",
        "colab": {}
      },
      "source": [
        "!pip uninstall tensorflow"
      ],
      "execution_count": 0,
      "outputs": []
    },
    {
      "cell_type": "code",
      "metadata": {
        "id": "sYVzfU8W1f5V",
        "colab_type": "code",
        "colab": {}
      },
      "source": [
        "!pip install tensorflow==2.1.0"
      ],
      "execution_count": 0,
      "outputs": []
    },
    {
      "cell_type": "code",
      "metadata": {
        "id": "PFCCYLUZgDBJ",
        "colab_type": "code",
        "colab": {}
      },
      "source": [
        "import tensorflow as tf\n",
        "tf.version.VERSION"
      ],
      "execution_count": 0,
      "outputs": []
    },
    {
      "cell_type": "code",
      "metadata": {
        "id": "uC2Z0T_d10Za",
        "colab_type": "code",
        "colab": {}
      },
      "source": [
        "tf.version.VERSION"
      ],
      "execution_count": 0,
      "outputs": []
    },
    {
      "cell_type": "code",
      "metadata": {
        "id": "wTcPHXmwnw0p",
        "colab_type": "code",
        "colab": {}
      },
      "source": [
        ""
      ],
      "execution_count": 0,
      "outputs": []
    }
  ]
}